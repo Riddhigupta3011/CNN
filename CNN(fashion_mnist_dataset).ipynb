{
  "nbformat": 4,
  "nbformat_minor": 0,
  "metadata": {
    "colab": {
      "name": "CNN(fashion_mnist_dataset).ipynb",
      "provenance": [],
      "collapsed_sections": [],
      "include_colab_link": true
    },
    "kernelspec": {
      "name": "python3",
      "display_name": "Python 3"
    },
    "language_info": {
      "name": "python"
    },
    "accelerator": "GPU"
  },
  "cells": [
    {
      "cell_type": "markdown",
      "metadata": {
        "id": "view-in-github",
        "colab_type": "text"
      },
      "source": [
        "<a href=\"https://colab.research.google.com/github/Riddhigupta3011/CNN/blob/main/CNN(fashion_mnist_dataset).ipynb\" target=\"_parent\"><img src=\"https://colab.research.google.com/assets/colab-badge.svg\" alt=\"Open In Colab\"/></a>"
      ]
    },
    {
      "cell_type": "code",
      "execution_count": null,
      "metadata": {
        "colab": {
          "base_uri": "https://localhost:8080/"
        },
        "id": "bgZL1N6WWi1c",
        "outputId": "77802fbe-ed3c-4d2f-a69d-b972ad20057c"
      },
      "outputs": [
        {
          "output_type": "stream",
          "name": "stdout",
          "text": [
            "Downloading data from https://storage.googleapis.com/tensorflow/tf-keras-datasets/train-labels-idx1-ubyte.gz\n",
            "32768/29515 [=================================] - 0s 0us/step\n",
            "40960/29515 [=========================================] - 0s 0us/step\n",
            "Downloading data from https://storage.googleapis.com/tensorflow/tf-keras-datasets/train-images-idx3-ubyte.gz\n",
            "26427392/26421880 [==============================] - 0s 0us/step\n",
            "26435584/26421880 [==============================] - 0s 0us/step\n",
            "Downloading data from https://storage.googleapis.com/tensorflow/tf-keras-datasets/t10k-labels-idx1-ubyte.gz\n",
            "16384/5148 [===============================================================================================] - 0s 0us/step\n",
            "Downloading data from https://storage.googleapis.com/tensorflow/tf-keras-datasets/t10k-images-idx3-ubyte.gz\n",
            "4423680/4422102 [==============================] - 0s 0us/step\n",
            "4431872/4422102 [==============================] - 0s 0us/step\n"
          ]
        }
      ],
      "source": [
        "from keras.datasets import fashion_mnist\n",
        "(train_X,train_Y), (test_X,test_Y) = fashion_mnist.load_data()"
      ]
    },
    {
      "cell_type": "code",
      "source": [
        "import numpy as np\n",
        "from tensorflow.keras.utils import to_categorical\n",
        "import matplotlib.pyplot as plt\n",
        "%matplotlib inline\n",
        "\n",
        "print('Training data shape : ', train_X.shape, train_Y.shape)\n",
        "\n",
        "print('Testing data shape : ', test_X.shape, test_Y.shape)"
      ],
      "metadata": {
        "colab": {
          "base_uri": "https://localhost:8080/"
        },
        "id": "5zo4lzPQYlOp",
        "outputId": "88c771a9-16ae-4468-c3ae-be9dfc68584d"
      },
      "execution_count": null,
      "outputs": [
        {
          "output_type": "stream",
          "name": "stdout",
          "text": [
            "Training data shape :  (60000, 28, 28) (60000,)\n",
            "Testing data shape :  (10000, 28, 28) (10000,)\n"
          ]
        }
      ]
    },
    {
      "cell_type": "code",
      "source": [
        "# Find the unique numbers from the train labels\n",
        "classes = np.unique(train_Y)\n",
        "nClasses = len(classes)\n",
        "print('Total number of outputs : ', nClasses)\n",
        "print('Output classes : ', classes)"
      ],
      "metadata": {
        "colab": {
          "base_uri": "https://localhost:8080/"
        },
        "id": "DbJuew9iYn-X",
        "outputId": "afd40dea-eb20-4a19-b8be-5f1ba4dd36bf"
      },
      "execution_count": null,
      "outputs": [
        {
          "output_type": "stream",
          "name": "stdout",
          "text": [
            "Total number of outputs :  10\n",
            "Output classes :  [0 1 2 3 4 5 6 7 8 9]\n"
          ]
        }
      ]
    },
    {
      "cell_type": "code",
      "source": [
        "plt.figure(figsize=[5,5])\n",
        "\n",
        "# Display the first image in training data\n",
        "plt.subplot(121)\n",
        "plt.imshow(train_X[0,:,:], cmap='gray')\n",
        "plt.title(\"Ground Truth : {}\".format(train_Y[0]))\n",
        "\n",
        "# Display the first image in testing data\n",
        "plt.subplot(122)\n",
        "plt.imshow(test_X[0,:,:], cmap='gray')\n",
        "plt.title(\"Ground Truth : {}\".format(test_Y[0]))"
      ],
      "metadata": {
        "colab": {
          "base_uri": "https://localhost:8080/",
          "height": 208
        },
        "id": "Ndetvk_VY0aP",
        "outputId": "d6ae10c0-c997-470f-c116-0569f71ffd83"
      },
      "execution_count": null,
      "outputs": [
        {
          "output_type": "execute_result",
          "data": {
            "text/plain": [
              "Text(0.5, 1.0, 'Ground Truth : 9')"
            ]
          },
          "metadata": {},
          "execution_count": 4
        },
        {
          "output_type": "display_data",
          "data": {
            "text/plain": [
              "<Figure size 360x360 with 2 Axes>"
            ],
            "image/png": "[encoded data removed]"
          },
          "metadata": {
            "needs_background": "light"
          }
        }
      ]
    },
    {
      "cell_type": "code",
      "source": [
        "train_X = train_X.reshape(-1, 28,28, 1)\n",
        "test_X = test_X.reshape(-1, 28,28, 1)\n",
        "train_X.shape, test_X.shape"
      ],
      "metadata": {
        "colab": {
          "base_uri": "https://localhost:8080/"
        },
        "id": "aCKw3b-CZS0P",
        "outputId": "96e06b79-a790-432d-be13-524738c3bf40"
      },
      "execution_count": null,
      "outputs": [
        {
          "output_type": "execute_result",
          "data": {
            "text/plain": [
              "((60000, 28, 28, 1), (10000, 28, 28, 1))"
            ]
          },
          "metadata": {},
          "execution_count": 5
        }
      ]
    },
    {
      "cell_type": "code",
      "source": [
        "train_X = train_X.astype('float32')\n",
        "test_X = test_X.astype('float32')\n",
        "train_X = train_X / 255.\n",
        "test_X = test_X / 255."
      ],
      "metadata": {
        "id": "QUpo9wgzZmdY"
      },
      "execution_count": null,
      "outputs": []
    },
    {
      "cell_type": "code",
      "source": [
        "# Change the labels from categorical to one-hot encoding\n",
        "train_Y_one_hot = to_categorical(train_Y)\n",
        "test_Y_one_hot = to_categorical(test_Y)\n",
        "\n",
        "# Display the change for category label using one-hot encoding\n",
        "print('Original label:', train_Y[0])\n",
        "print('After conversion to one-hot:', train_Y_one_hot[0])"
      ],
      "metadata": {
        "colab": {
          "base_uri": "https://localhost:8080/"
        },
        "id": "MY3Ru2_gZoty",
        "outputId": "e9e86851-edd2-474d-f8b3-a3f1f1f9ab84"
      },
      "execution_count": null,
      "outputs": [
        {
          "output_type": "stream",
          "name": "stdout",
          "text": [
            "Original label: 9\n",
            "After conversion to one-hot: [0. 0. 0. 0. 0. 0. 0. 0. 0. 1.]\n"
          ]
        }
      ]
    },
    {
      "cell_type": "code",
      "source": [
        "from sklearn.model_selection import train_test_split\n",
        "train_X,valid_X,train_label,valid_label = train_test_split(train_X, train_Y_one_hot, test_size=0.2, random_state=13)"
      ],
      "metadata": {
        "id": "iqd2M31EZrce"
      },
      "execution_count": null,
      "outputs": []
    },
    {
      "cell_type": "code",
      "source": [
        "train_X.shape,valid_X.shape,train_label.shape,valid_label.shape"
      ],
      "metadata": {
        "colab": {
          "base_uri": "https://localhost:8080/"
        },
        "id": "9HVOxKeLaBJb",
        "outputId": "0f47456d-c928-43c4-df12-74cbc2c516c9"
      },
      "execution_count": null,
      "outputs": [
        {
          "output_type": "execute_result",
          "data": {
            "text/plain": [
              "((48000, 28, 28, 1), (12000, 28, 28, 1), (48000, 10), (12000, 10))"
            ]
          },
          "metadata": {},
          "execution_count": 9
        }
      ]
    },
    {
      "cell_type": "code",
      "source": [
        "import keras\n",
        "from keras.models import Sequential,Input,Model\n",
        "from keras.layers import Dense, Dropout, Flatten\n",
        "from keras.layers import Conv2D, MaxPooling2D\n",
        "from tensorflow.keras.layers import BatchNormalization\n",
        "from keras.layers.advanced_activations import LeakyReLU"
      ],
      "metadata": {
        "id": "eHTlFSGeaDV3"
      },
      "execution_count": null,
      "outputs": []
    },
    {
      "cell_type": "code",
      "source": [
        "batch_size = 64\n",
        "epochs = 20\n",
        "num_classes = 10"
      ],
      "metadata": {
        "id": "npSO8bbwaa0T"
      },
      "execution_count": null,
      "outputs": []
    },
    {
      "cell_type": "code",
      "source": [
        "fashion_model = Sequential()\n",
        "fashion_model.add(Conv2D(32, kernel_size=(3, 3),activation='linear',input_shape=(28,28,1),padding='same'))\n",
        "fashion_model.add(LeakyReLU(alpha=0.1))\n",
        "fashion_model.add(MaxPooling2D((2, 2),padding='same'))\n",
        "fashion_model.add(Conv2D(64, (3, 3), activation='linear',padding='same'))\n",
        "fashion_model.add(LeakyReLU(alpha=0.1))\n",
        "fashion_model.add(MaxPooling2D(pool_size=(2, 2),padding='same'))\n",
        "fashion_model.add(Conv2D(128, (3, 3), activation='linear',padding='same'))\n",
        "fashion_model.add(LeakyReLU(alpha=0.1))                  \n",
        "fashion_model.add(MaxPooling2D(pool_size=(2, 2),padding='same'))\n",
        "fashion_model.add(Flatten())\n",
        "fashion_model.add(Dense(128, activation='linear'))\n",
        "fashion_model.add(LeakyReLU(alpha=0.1))                  \n",
        "fashion_model.add(Dense(num_classes, activation='softmax'))"
      ],
      "metadata": {
        "id": "OX5k2r-9aHy9"
      },
      "execution_count": null,
      "outputs": []
    },
    {
      "cell_type": "code",
      "source": [
        "fashion_model.compile(loss='categorical_crossentropy', optimizer='Adam', metrics=['accuracy'])"
      ],
      "metadata": {
        "id": "SsQZS5ciaWJ1"
      },
      "execution_count": null,
      "outputs": []
    },
    {
      "cell_type": "code",
      "source": [
        "fashion_model.summary()"
      ],
      "metadata": {
        "colab": {
          "base_uri": "https://localhost:8080/"
        },
        "id": "9UIpvxrRagPH",
        "outputId": "8578e9bd-aff3-4017-8673-43d813b75bd7"
      },
      "execution_count": null,
      "outputs": [
        {
          "output_type": "stream",
          "name": "stdout",
          "text": [
            "Model: \"sequential\"\n",
            "_________________________________________________________________\n",
            " Layer (type)                Output Shape              Param #   \n",
            "=================================================================\n",
            " conv2d (Conv2D)             (None, 28, 28, 32)        320       \n",
            "                                                                 \n",
            " leaky_re_lu (LeakyReLU)     (None, 28, 28, 32)        0         \n",
            "                                                                 \n",
            " max_pooling2d (MaxPooling2D  (None, 14, 14, 32)       0         \n",
            " )                                                               \n",
            "                                                                 \n",
            " conv2d_1 (Conv2D)           (None, 14, 14, 64)        18496     \n",
            "                                                                 \n",
            " leaky_re_lu_1 (LeakyReLU)   (None, 14, 14, 64)        0         \n",
            "                                                                 \n",
            " max_pooling2d_1 (MaxPooling  (None, 7, 7, 64)         0         \n",
            " 2D)                                                             \n",
            "                                                                 \n",
            " conv2d_2 (Conv2D)           (None, 7, 7, 128)         73856     \n",
            "                                                                 \n",
            " leaky_re_lu_2 (LeakyReLU)   (None, 7, 7, 128)         0         \n",
            "                                                                 \n",
            " max_pooling2d_2 (MaxPooling  (None, 4, 4, 128)        0         \n",
            " 2D)                                                             \n",
            "                                                                 \n",
            " flatten (Flatten)           (None, 2048)              0         \n",
            "                                                                 \n",
            " dense (Dense)               (None, 128)               262272    \n",
            "                                                                 \n",
            " leaky_re_lu_3 (LeakyReLU)   (None, 128)               0         \n",
            "                                                                 \n",
            " dense_1 (Dense)             (None, 10)                1290      \n",
            "                                                                 \n",
            "=================================================================\n",
            "Total params: 356,234\n",
            "Trainable params: 356,234\n",
            "Non-trainable params: 0\n",
            "_________________________________________________________________\n"
          ]
        }
      ]
    },
    {
      "cell_type": "code",
      "source": [
        "fashion_train = fashion_model.fit(train_X, train_label, batch_size=batch_size,epochs=epochs,verbose=1,validation_data=(valid_X, valid_label))"
      ],
      "metadata": {
        "colab": {
          "base_uri": "https://localhost:8080/"
        },
        "id": "oiVqExvUa8pw",
        "outputId": "39a24eb7-8a69-4bf1-fdfa-46e3107240a8"
      },
      "execution_count": null,
      "outputs": [
        {
          "output_type": "stream",
          "name": "stdout",
          "text": [
            "Epoch 1/20\n",
            "750/750 [==============================] - 21s 14ms/step - loss: 0.4711 - accuracy: 0.8276 - val_loss: 0.3178 - val_accuracy: 0.8863\n",
            "Epoch 2/20\n",
            "750/750 [==============================] - 10s 14ms/step - loss: 0.2891 - accuracy: 0.8940 - val_loss: 0.2866 - val_accuracy: 0.8947\n",
            "Epoch 3/20\n",
            "750/750 [==============================] - 10s 13ms/step - loss: 0.2423 - accuracy: 0.9113 - val_loss: 0.2521 - val_accuracy: 0.9064\n",
            "Epoch 4/20\n",
            "750/750 [==============================] - 10s 13ms/step - loss: 0.2125 - accuracy: 0.9223 - val_loss: 0.2401 - val_accuracy: 0.9116\n",
            "Epoch 5/20\n",
            "750/750 [==============================] - 10s 13ms/step - loss: 0.1869 - accuracy: 0.9310 - val_loss: 0.2347 - val_accuracy: 0.9167\n",
            "Epoch 6/20\n",
            "750/750 [==============================] - 10s 13ms/step - loss: 0.1634 - accuracy: 0.9398 - val_loss: 0.2371 - val_accuracy: 0.9193\n",
            "Epoch 7/20\n",
            "750/750 [==============================] - 10s 14ms/step - loss: 0.1462 - accuracy: 0.9459 - val_loss: 0.2560 - val_accuracy: 0.9153\n",
            "Epoch 8/20\n",
            "750/750 [==============================] - 10s 13ms/step - loss: 0.1244 - accuracy: 0.9540 - val_loss: 0.2462 - val_accuracy: 0.9168\n",
            "Epoch 9/20\n",
            "750/750 [==============================] - 10s 14ms/step - loss: 0.1071 - accuracy: 0.9593 - val_loss: 0.2637 - val_accuracy: 0.9202\n",
            "Epoch 10/20\n",
            "750/750 [==============================] - 10s 13ms/step - loss: 0.0883 - accuracy: 0.9671 - val_loss: 0.2752 - val_accuracy: 0.9208\n",
            "Epoch 11/20\n",
            "750/750 [==============================] - 11s 15ms/step - loss: 0.0767 - accuracy: 0.9706 - val_loss: 0.2874 - val_accuracy: 0.9216\n",
            "Epoch 12/20\n",
            "750/750 [==============================] - 10s 14ms/step - loss: 0.0656 - accuracy: 0.9753 - val_loss: 0.3052 - val_accuracy: 0.9254\n",
            "Epoch 13/20\n",
            "750/750 [==============================] - 10s 13ms/step - loss: 0.0566 - accuracy: 0.9786 - val_loss: 0.3465 - val_accuracy: 0.9226\n",
            "Epoch 14/20\n",
            "750/750 [==============================] - 10s 13ms/step - loss: 0.0489 - accuracy: 0.9818 - val_loss: 0.3603 - val_accuracy: 0.9219\n",
            "Epoch 15/20\n",
            "750/750 [==============================] - 11s 14ms/step - loss: 0.0436 - accuracy: 0.9834 - val_loss: 0.3632 - val_accuracy: 0.9216\n",
            "Epoch 16/20\n",
            "750/750 [==============================] - 10s 14ms/step - loss: 0.0406 - accuracy: 0.9852 - val_loss: 0.3794 - val_accuracy: 0.9188\n",
            "Epoch 17/20\n",
            "750/750 [==============================] - 10s 13ms/step - loss: 0.0361 - accuracy: 0.9869 - val_loss: 0.4577 - val_accuracy: 0.9156\n",
            "Epoch 18/20\n",
            "750/750 [==============================] - 10s 13ms/step - loss: 0.0365 - accuracy: 0.9862 - val_loss: 0.4369 - val_accuracy: 0.9218\n",
            "Epoch 19/20\n",
            "750/750 [==============================] - 10s 13ms/step - loss: 0.0268 - accuracy: 0.9905 - val_loss: 0.4328 - val_accuracy: 0.9203\n",
            "Epoch 20/20\n",
            "750/750 [==============================] - 10s 14ms/step - loss: 0.0337 - accuracy: 0.9881 - val_loss: 0.4387 - val_accuracy: 0.9193\n"
          ]
        }
      ]
    },
    {
      "cell_type": "code",
      "source": [
        ""
      ],
      "metadata": {
        "id": "xlBHggDXbE7h"
      },
      "execution_count": null,
      "outputs": []
    },
    {
      "cell_type": "code",
      "source": [
        "test_eval = fashion_model.evaluate(test_X, test_Y_one_hot, verbose=0)"
      ],
      "metadata": {
        "id": "LDtbIWRfb-3E"
      },
      "execution_count": null,
      "outputs": []
    },
    {
      "cell_type": "code",
      "source": [
        "print('Test loss:', test_eval[0])\n",
        "print('Test accuracy:', test_eval[1])"
      ],
      "metadata": {
        "colab": {
          "base_uri": "https://localhost:8080/"
        },
        "id": "rXDX7GCmb-zV",
        "outputId": "fb42c86a-57b1-4430-8281-d729d645c4d0"
      },
      "execution_count": null,
      "outputs": [
        {
          "output_type": "stream",
          "name": "stdout",
          "text": [
            "Test loss: 0.48088887333869934\n",
            "Test accuracy: 0.9150000214576721\n"
          ]
        }
      ]
    },
    {
      "cell_type": "code",
      "source": [
        "accuracy = fashion_train.history['accuracy']\n",
        "val_accuracy = fashion_train.history['val_accuracy']\n",
        "loss = fashion_train.history['loss']\n",
        "val_loss = fashion_train.history['val_loss']\n",
        "epochs = range(len(accuracy))\n",
        "plt.plot(epochs, accuracy, 'bo', label='Training accuracy')\n",
        "plt.plot(epochs, val_accuracy, 'b', label='Validation accuracy')\n",
        "plt.title('Training and validation accuracy')\n",
        "plt.legend()\n",
        "plt.figure()\n",
        "plt.plot(epochs, loss, 'bo', label='Training loss')\n",
        "plt.plot(epochs, val_loss, 'b', label='Validation loss')\n",
        "plt.title('Training and validation loss')\n",
        "plt.legend()\n",
        "plt.show()"
      ],
      "metadata": {
        "colab": {
          "base_uri": "https://localhost:8080/",
          "height": 545
        },
        "id": "yRe3k6UKb-ws",
        "outputId": "564ce935-44cb-4c94-d667-ae0b9d31c625"
      },
      "execution_count": null,
      "outputs": [
        {
          "output_type": "display_data",
          "data": {
            "text/plain": [
              "<Figure size 432x288 with 1 Axes>"
            ],
            "image/png": "[encoded data removed]"
          },
          "metadata": {
            "needs_background": "light"
          }
        },
        {
          "output_type": "display_data",
          "data": {
            "text/plain": [
              "<Figure size 432x288 with 1 Axes>"
            ],
            "image/png": "[encoded data removed]"
          },
          "metadata": {
            "needs_background": "light"
          }
        }
      ]
    },
    {
      "cell_type": "code",
      "source": [
        "batch_size = 64\n",
        "epochs = 20\n",
        "num_classes = 10"
      ],
      "metadata": {
        "id": "mpVS7AJ5b-uO"
      },
      "execution_count": null,
      "outputs": []
    },
    {
      "cell_type": "code",
      "source": [
        "fashion_model = Sequential()\n",
        "fashion_model.add(Conv2D(32, kernel_size=(3, 3),activation='linear',padding='same',input_shape=(28,28,1)))\n",
        "fashion_model.add(LeakyReLU(alpha=0.1))\n",
        "fashion_model.add(MaxPooling2D((2, 2),padding='same'))\n",
        "fashion_model.add(Dropout(0.25))\n",
        "fashion_model.add(Conv2D(64, (3, 3), activation='linear',padding='same'))\n",
        "fashion_model.add(LeakyReLU(alpha=0.1))\n",
        "fashion_model.add(MaxPooling2D(pool_size=(2, 2),padding='same'))\n",
        "fashion_model.add(Dropout(0.25))\n",
        "fashion_model.add(Conv2D(128, (3, 3), activation='linear',padding='same'))\n",
        "fashion_model.add(LeakyReLU(alpha=0.1))                  \n",
        "fashion_model.add(MaxPooling2D(pool_size=(2, 2),padding='same'))\n",
        "fashion_model.add(Dropout(0.4))\n",
        "fashion_model.add(Flatten())\n",
        "fashion_model.add(Dense(128, activation='linear'))\n",
        "fashion_model.add(LeakyReLU(alpha=0.1))           \n",
        "fashion_model.add(Dropout(0.3))\n",
        "fashion_model.add(Dense(num_classes, activation='softmax'))"
      ],
      "metadata": {
        "id": "R0XhT-Jlb-r_"
      },
      "execution_count": null,
      "outputs": []
    },
    {
      "cell_type": "code",
      "source": [
        "fashion_model.summary()"
      ],
      "metadata": {
        "colab": {
          "base_uri": "https://localhost:8080/"
        },
        "id": "_b0_21UVb-pb",
        "outputId": "bba11383-b361-4369-d689-d94579603b3f"
      },
      "execution_count": null,
      "outputs": [
        {
          "output_type": "stream",
          "name": "stdout",
          "text": [
            "Model: \"sequential_1\"\n",
            "_________________________________________________________________\n",
            " Layer (type)                Output Shape              Param #   \n",
            "=================================================================\n",
            " conv2d_3 (Conv2D)           (None, 28, 28, 32)        320       \n",
            "                                                                 \n",
            " leaky_re_lu_4 (LeakyReLU)   (None, 28, 28, 32)        0         \n",
            "                                                                 \n",
            " max_pooling2d_3 (MaxPooling  (None, 14, 14, 32)       0         \n",
            " 2D)                                                             \n",
            "                                                                 \n",
            " dropout (Dropout)           (None, 14, 14, 32)        0         \n",
            "                                                                 \n",
            " conv2d_4 (Conv2D)           (None, 14, 14, 64)        18496     \n",
            "                                                                 \n",
            " leaky_re_lu_5 (LeakyReLU)   (None, 14, 14, 64)        0         \n",
            "                                                                 \n",
            " max_pooling2d_4 (MaxPooling  (None, 7, 7, 64)         0         \n",
            " 2D)                                                             \n",
            "                                                                 \n",
            " dropout_1 (Dropout)         (None, 7, 7, 64)          0         \n",
            "                                                                 \n",
            " conv2d_5 (Conv2D)           (None, 7, 7, 128)         73856     \n",
            "                                                                 \n",
            " leaky_re_lu_6 (LeakyReLU)   (None, 7, 7, 128)         0         \n",
            "                                                                 \n",
            " max_pooling2d_5 (MaxPooling  (None, 4, 4, 128)        0         \n",
            " 2D)                                                             \n",
            "                                                                 \n",
            " dropout_2 (Dropout)         (None, 4, 4, 128)         0         \n",
            "                                                                 \n",
            " flatten_1 (Flatten)         (None, 2048)              0         \n",
            "                                                                 \n",
            " dense_2 (Dense)             (None, 128)               262272    \n",
            "                                                                 \n",
            " leaky_re_lu_7 (LeakyReLU)   (None, 128)               0         \n",
            "                                                                 \n",
            " dropout_3 (Dropout)         (None, 128)               0         \n",
            "                                                                 \n",
            " dense_3 (Dense)             (None, 10)                1290      \n",
            "                                                                 \n",
            "=================================================================\n",
            "Total params: 356,234\n",
            "Trainable params: 356,234\n",
            "Non-trainable params: 0\n",
            "_________________________________________________________________\n"
          ]
        }
      ]
    },
    {
      "cell_type": "code",
      "source": [
        "fashion_model.compile(loss='categorical_crossentropy', optimizer='Adam', metrics=['accuracy'])"
      ],
      "metadata": {
        "id": "4YtWDGiucL9U"
      },
      "execution_count": null,
      "outputs": []
    },
    {
      "cell_type": "code",
      "source": [
        "fashion_train_dropout = fashion_model.fit(train_X, train_label, batch_size=batch_size,epochs=epochs,verbose=1,validation_data=(valid_X, valid_label))"
      ],
      "metadata": {
        "colab": {
          "base_uri": "https://localhost:8080/"
        },
        "id": "j2sD9HTzcL6V",
        "outputId": "0a929815-6446-4b7f-f9cf-1a087a3b4807"
      },
      "execution_count": null,
      "outputs": [
        {
          "output_type": "stream",
          "name": "stdout",
          "text": [
            "Epoch 1/20\n",
            "750/750 [==============================] - 12s 15ms/step - loss: 0.5964 - accuracy: 0.7790 - val_loss: 0.3720 - val_accuracy: 0.8617\n",
            "Epoch 2/20\n",
            "750/750 [==============================] - 11s 15ms/step - loss: 0.3753 - accuracy: 0.8612 - val_loss: 0.3132 - val_accuracy: 0.8827\n",
            "Epoch 3/20\n",
            "750/750 [==============================] - 11s 15ms/step - loss: 0.3271 - accuracy: 0.8793 - val_loss: 0.2861 - val_accuracy: 0.8938\n",
            "Epoch 4/20\n",
            "750/750 [==============================] - 11s 15ms/step - loss: 0.2970 - accuracy: 0.8910 - val_loss: 0.2590 - val_accuracy: 0.9052\n",
            "Epoch 5/20\n",
            "750/750 [==============================] - 11s 15ms/step - loss: 0.2803 - accuracy: 0.8976 - val_loss: 0.2688 - val_accuracy: 0.9007\n",
            "Epoch 6/20\n",
            "750/750 [==============================] - 11s 15ms/step - loss: 0.2629 - accuracy: 0.9011 - val_loss: 0.2444 - val_accuracy: 0.9075\n",
            "Epoch 7/20\n",
            "750/750 [==============================] - 11s 15ms/step - loss: 0.2564 - accuracy: 0.9047 - val_loss: 0.2341 - val_accuracy: 0.9127\n",
            "Epoch 8/20\n",
            "750/750 [==============================] - 11s 15ms/step - loss: 0.2454 - accuracy: 0.9078 - val_loss: 0.2238 - val_accuracy: 0.9158\n",
            "Epoch 9/20\n",
            "750/750 [==============================] - 11s 15ms/step - loss: 0.2353 - accuracy: 0.9116 - val_loss: 0.2261 - val_accuracy: 0.9158\n",
            "Epoch 10/20\n",
            "750/750 [==============================] - 11s 15ms/step - loss: 0.2326 - accuracy: 0.9112 - val_loss: 0.2219 - val_accuracy: 0.9174\n",
            "Epoch 11/20\n",
            "750/750 [==============================] - 11s 15ms/step - loss: 0.2264 - accuracy: 0.9156 - val_loss: 0.2204 - val_accuracy: 0.9195\n",
            "Epoch 12/20\n",
            "750/750 [==============================] - 11s 15ms/step - loss: 0.2224 - accuracy: 0.9166 - val_loss: 0.2177 - val_accuracy: 0.9214\n",
            "Epoch 13/20\n",
            "750/750 [==============================] - 11s 15ms/step - loss: 0.2165 - accuracy: 0.9181 - val_loss: 0.2159 - val_accuracy: 0.9212\n",
            "Epoch 14/20\n",
            "750/750 [==============================] - 11s 15ms/step - loss: 0.2155 - accuracy: 0.9196 - val_loss: 0.2125 - val_accuracy: 0.9250\n",
            "Epoch 15/20\n",
            "750/750 [==============================] - 11s 15ms/step - loss: 0.2087 - accuracy: 0.9217 - val_loss: 0.2195 - val_accuracy: 0.9237\n",
            "Epoch 16/20\n",
            "750/750 [==============================] - 11s 15ms/step - loss: 0.2085 - accuracy: 0.9221 - val_loss: 0.2128 - val_accuracy: 0.9225\n",
            "Epoch 17/20\n",
            "750/750 [==============================] - 11s 15ms/step - loss: 0.2042 - accuracy: 0.9211 - val_loss: 0.2090 - val_accuracy: 0.9259\n",
            "Epoch 18/20\n",
            "750/750 [==============================] - 11s 15ms/step - loss: 0.2004 - accuracy: 0.9242 - val_loss: 0.2141 - val_accuracy: 0.9257\n",
            "Epoch 19/20\n",
            "750/750 [==============================] - 11s 15ms/step - loss: 0.1963 - accuracy: 0.9243 - val_loss: 0.2132 - val_accuracy: 0.9259\n",
            "Epoch 20/20\n",
            "750/750 [==============================] - 11s 15ms/step - loss: 0.1950 - accuracy: 0.9264 - val_loss: 0.2012 - val_accuracy: 0.9284\n"
          ]
        }
      ]
    },
    {
      "cell_type": "code",
      "source": [
        "fashion_model.save(\"fashion_model_dropout.h5py\")"
      ],
      "metadata": {
        "id": "IwoRWWvMcL4R",
        "colab": {
          "base_uri": "https://localhost:8080/"
        },
        "outputId": "73e2b680-1eeb-4136-fdd7-57597080c459"
      },
      "execution_count": null,
      "outputs": [
        {
          "output_type": "stream",
          "name": "stdout",
          "text": [
            "INFO:tensorflow:Assets written to: fashion_model_dropout.h5py/assets\n"
          ]
        }
      ]
    },
    {
      "cell_type": "code",
      "source": [
        "test_eval = fashion_model.evaluate(test_X, test_Y_one_hot, verbose=1)"
      ],
      "metadata": {
        "id": "Hd7F6KEKcL1w",
        "colab": {
          "base_uri": "https://localhost:8080/"
        },
        "outputId": "7c585faf-0db9-4344-db16-2b4caba5f6a7"
      },
      "execution_count": null,
      "outputs": [
        {
          "output_type": "stream",
          "name": "stdout",
          "text": [
            "313/313 [==============================] - 1s 5ms/step - loss: 0.2132 - accuracy: 0.9213\n"
          ]
        }
      ]
    },
    {
      "cell_type": "code",
      "source": [
        "print('Test loss:', test_eval[0])\n",
        "print('Test accuracy:', test_eval[1])"
      ],
      "metadata": {
        "id": "IID4fDg8cLzT",
        "colab": {
          "base_uri": "https://localhost:8080/"
        },
        "outputId": "c8c8bc87-0fea-4e99-f7c1-740843879bce"
      },
      "execution_count": null,
      "outputs": [
        {
          "output_type": "stream",
          "name": "stdout",
          "text": [
            "Test loss: 0.21322402358055115\n",
            "Test accuracy: 0.9212999939918518\n"
          ]
        }
      ]
    },
    {
      "cell_type": "code",
      "source": [
        "accuracy = fashion_train_dropout.history['accuracy']\n",
        "val_accuracy = fashion_train_dropout.history['val_accuracy']\n",
        "loss = fashion_train_dropout.history['loss']\n",
        "val_loss = fashion_train_dropout.history['val_loss']\n",
        "epochs = range(len(accuracy))\n",
        "plt.plot(epochs, accuracy, 'bo', label='Training accuracy')\n",
        "plt.plot(epochs, val_accuracy, 'b', label='Validation accuracy')\n",
        "plt.title('Training and validation accuracy')\n",
        "plt.legend()\n",
        "plt.figure()\n",
        "plt.plot(epochs, loss, 'bo', label='Training loss')\n",
        "plt.plot(epochs, val_loss, 'b', label='Validation loss')\n",
        "plt.title('Training and validation loss')\n",
        "plt.legend()\n",
        "plt.show()"
      ],
      "metadata": {
        "id": "USryv_M3cLwj",
        "colab": {
          "base_uri": "https://localhost:8080/",
          "height": 545
        },
        "outputId": "183c8935-7ab3-4f56-868e-a0b009dd2239"
      },
      "execution_count": null,
      "outputs": [
        {
          "output_type": "display_data",
          "data": {
            "text/plain": [
              "<Figure size 432x288 with 1 Axes>"
            ],
            "image/png": "[encoded data removed]"
          },
          "metadata": {
            "needs_background": "light"
          }
        },
        {
          "output_type": "display_data",
          "data": {
            "text/plain": [
              "<Figure size 432x288 with 1 Axes>"
            ],
            "image/png": "[encoded data removed]"
          },
          "metadata": {
            "needs_background": "light"
          }
        }
      ]
    },
    {
      "cell_type": "code",
      "source": [
        "predicted_classes = fashion_model.predict(test_X)"
      ],
      "metadata": {
        "id": "0VvKtMG5cLtx"
      },
      "execution_count": null,
      "outputs": []
    },
    {
      "cell_type": "code",
      "source": [
        "predicted_classes = np.argmax(np.round(predicted_classes),axis=1)"
      ],
      "metadata": {
        "id": "kA_VWrU2eFD1"
      },
      "execution_count": null,
      "outputs": []
    },
    {
      "cell_type": "code",
      "source": [
        "predicted_classes.shape, test_Y.shape"
      ],
      "metadata": {
        "id": "DjLXxAQIeE-O",
        "colab": {
          "base_uri": "https://localhost:8080/"
        },
        "outputId": "6f92026c-6d7f-4021-d298-9d5a408d6c44"
      },
      "execution_count": null,
      "outputs": [
        {
          "output_type": "execute_result",
          "data": {
            "text/plain": [
              "((10000,), (10000,))"
            ]
          },
          "metadata": {},
          "execution_count": 30
        }
      ]
    },
    {
      "cell_type": "code",
      "source": [
        "correct = np.where(predicted_classes==test_Y)[0]\n",
        "print (\"Found %d correct labels\" % len(correct))\n",
        "for i, correct in enumerate(correct[:9]):\n",
        "    plt.subplot(3,3,i+1)\n",
        "    plt.imshow(test_X[correct].reshape(28,28), cmap='gray', interpolation='none')\n",
        "    plt.title(\"Predicted {}, Class {}\".format(predicted_classes[correct], test_Y[correct]))\n",
        "    plt.tight_layout()"
      ],
      "metadata": {
        "id": "E39V4deQeJIF",
        "colab": {
          "base_uri": "https://localhost:8080/",
          "height": 314
        },
        "outputId": "8fe06919-a8a0-4c3b-f934-5c95d21c93d0"
      },
      "execution_count": null,
      "outputs": [
        {
          "output_type": "stream",
          "name": "stdout",
          "text": [
            "Found 9187 correct labels\n"
          ]
        },
        {
          "output_type": "display_data",
          "data": {
            "text/plain": [
              "<Figure size 432x288 with 9 Axes>"
            ],
            "image/png": "[encoded data removed]"
          },
          "metadata": {
            "needs_background": "light"
          }
        }
      ]
    },
    {
      "cell_type": "code",
      "source": [
        "incorrect = np.where(predicted_classes!=test_Y)[0]\n",
        "print (\"Found %d incorrect labels\" % len(incorrect))\n",
        "for i, incorrect in enumerate(incorrect[:9]):\n",
        "    plt.subplot(3,3,i+1)\n",
        "    plt.imshow(test_X[incorrect].reshape(28,28), cmap='gray', interpolation='none')\n",
        "    plt.title(\"Predicted {}, Class {}\".format(predicted_classes[incorrect], test_Y[incorrect]))\n",
        "    plt.tight_layout()"
      ],
      "metadata": {
        "id": "yFUZJ5pweJEc",
        "colab": {
          "base_uri": "https://localhost:8080/",
          "height": 314
        },
        "outputId": "b35580c2-09be-42f4-f9d2-cf4745188c94"
      },
      "execution_count": null,
      "outputs": [
        {
          "output_type": "stream",
          "name": "stdout",
          "text": [
            "Found 813 incorrect labels\n"
          ]
        },
        {
          "output_type": "display_data",
          "data": {
            "text/plain": [
              "<Figure size 432x288 with 9 Axes>"
            ],
            "image/png": "[encoded data removed]"
          },
          "metadata": {
            "needs_background": "light"
          }
        }
      ]
    },
    {
      "cell_type": "code",
      "source": [
        "from sklearn.metrics import classification_report\n",
        "target_names = [\"Class {}\".format(i) for i in range(num_classes)]\n",
        "print(classification_report(test_Y, predicted_classes, target_names=target_names))"
      ],
      "metadata": {
        "id": "Ry20jTLFeJBi",
        "colab": {
          "base_uri": "https://localhost:8080/"
        },
        "outputId": "48013b87-cb2e-4b04-c370-10fb73d02213"
      },
      "execution_count": null,
      "outputs": [
        {
          "output_type": "stream",
          "name": "stdout",
          "text": [
            "              precision    recall  f1-score   support\n",
            "\n",
            "     Class 0       0.80      0.88      0.84      1000\n",
            "     Class 1       0.99      0.99      0.99      1000\n",
            "     Class 2       0.90      0.84      0.87      1000\n",
            "     Class 3       0.92      0.92      0.92      1000\n",
            "     Class 4       0.87      0.88      0.87      1000\n",
            "     Class 5       0.99      0.99      0.99      1000\n",
            "     Class 6       0.78      0.76      0.77      1000\n",
            "     Class 7       0.97      0.97      0.97      1000\n",
            "     Class 8       0.99      0.99      0.99      1000\n",
            "     Class 9       0.98      0.97      0.97      1000\n",
            "\n",
            "    accuracy                           0.92     10000\n",
            "   macro avg       0.92      0.92      0.92     10000\n",
            "weighted avg       0.92      0.92      0.92     10000\n",
            "\n"
          ]
        }
      ]
    }
  ]
}